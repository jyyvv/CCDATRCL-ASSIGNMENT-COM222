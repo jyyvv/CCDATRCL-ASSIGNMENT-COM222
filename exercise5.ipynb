{
  "cells": [
    {
      "cell_type": "markdown",
      "metadata": {
        "id": "view-in-github",
        "colab_type": "text"
      },
      "source": [
        "<a href=\"https://colab.research.google.com/github/jyyvv/CCDATRCL-ASSIGNMENT-COM222/blob/main/exercise5.ipynb\" target=\"_parent\"><img src=\"https://colab.research.google.com/assets/colab-badge.svg\" alt=\"Open In Colab\"/></a>"
      ]
    },
    {
      "cell_type": "markdown",
      "metadata": {
        "id": "8oyQkTDRl2gN"
      },
      "source": [
        "# Exercise 5"
      ]
    },
    {
      "cell_type": "markdown",
      "metadata": {
        "id": "qpGjO9aDl2gR"
      },
      "source": [
        "#### 1. Create a dictionary of your 10 favorite songs."
      ]
    },
    {
      "cell_type": "markdown",
      "metadata": {
        "id": "QnC5bokLl2gS"
      },
      "source": [
        "Example:\n",
        "\n",
        "|KEY|VALUE|\n",
        "|---|---|\n",
        "|001|My Love|\n",
        "|002|Like a rose|"
      ]
    },
    {
      "cell_type": "code",
      "execution_count": 5,
      "metadata": {
        "colab": {
          "base_uri": "https://localhost:8080/"
        },
        "id": "MQwCVrQ0l2gS",
        "outputId": "dc106c56-0dd8-407f-b019-a81157691961"
      },
      "outputs": [
        {
          "output_type": "stream",
          "name": "stdout",
          "text": [
            "{'001': 'My Love', '002': 'If I let you go', '003': 'Swear It Again', '004': 'Starboy', '005': 'Ere', '006': 'Because', '007': 'Do not disturb', '008': 'Better now', '009': 'Anytime', '010': 'Silent mode'}\n"
          ]
        }
      ],
      "source": [
        "# put your answer here\n",
        "mydictionary = {\n",
        "  \"001\": \"My Love\",\n",
        "  \"002\": \"If I let you go\",\n",
        "  \"003\": \"Swear It Again\",\n",
        "  \"004\": \"Starboy\",\n",
        "  \"005\": \"Ere\",\n",
        "  \"006\": \"Because\",\n",
        "  \"007\": \"Do not disturb\",\n",
        "  \"008\": \"Better now\",\n",
        "  \"009\": \"Anytime\",\n",
        "  \"010\": \"Silent mode\",\n",
        "}\n",
        "print(mydictionary)"
      ]
    },
    {
      "cell_type": "markdown",
      "metadata": {
        "id": "1gsctiAJl2gU"
      },
      "source": [
        "#### 2. Loop through the dictionary by its **key** and **value**"
      ]
    },
    {
      "cell_type": "code",
      "execution_count": 16,
      "metadata": {
        "colab": {
          "base_uri": "https://localhost:8080/"
        },
        "id": "ten0SaCCl2gU",
        "outputId": "c4fa31ee-0f40-4918-e70d-e4dfb2c6257b"
      },
      "outputs": [
        {
          "output_type": "stream",
          "name": "stdout",
          "text": [
            "Key: 001, Value: My Love\n",
            "Key: 002, Value: If I let you go\n",
            "Key: 003, Value: Swear It Again\n",
            "Key: 004, Value: Starboy\n",
            "Key: 005, Value: Ere\n",
            "Key: 006, Value: Because\n",
            "Key: 007, Value: Do not disturb\n",
            "Key: 008, Value: Better now\n",
            "Key: 009, Value: Anytime\n",
            "Key: 010, Value: Silent mode\n"
          ]
        }
      ],
      "source": [
        "# put your answer here\n",
        "mydictionary = {\"001\": \"My Love\",\n",
        "  \"002\": \"If I let you go\",\n",
        "  \"003\": \"Swear It Again\",\n",
        "  \"004\": \"Starboy\",\n",
        "  \"005\": \"Ere\",\n",
        "  \"006\": \"Because\",\n",
        "  \"007\": \"Do not disturb\",\n",
        "  \"008\": \"Better now\",\n",
        "  \"009\": \"Anytime\",\n",
        "  \"010\": \"Silent mode\",}\n",
        "\n",
        "for key, value in mydictionary.items():\n",
        "   print(f\"Key: {key}, Value: {value}\")"
      ]
    },
    {
      "cell_type": "markdown",
      "metadata": {
        "id": "SqfMu_wsl2gU"
      },
      "source": [
        "#### 3. Add one additional song"
      ]
    },
    {
      "cell_type": "code",
      "execution_count": 17,
      "metadata": {
        "colab": {
          "base_uri": "https://localhost:8080/"
        },
        "id": "xRIOmUWjl2gV",
        "outputId": "626b6b7f-0523-46ef-9792-7467c227399b"
      },
      "outputs": [
        {
          "output_type": "stream",
          "name": "stdout",
          "text": [
            "{'001': 'My Love', '002': 'If I let you go', '003': 'Swear It Again', '004': 'Starboy', '005': 'Ere', '006': 'Because', '007': 'Do not disturb', '008': 'Better now', '009': 'Anytime', '010': 'Silent mode', '011': '20 deep'}\n"
          ]
        }
      ],
      "source": [
        "# put your answer here\n",
        "mydictionary[\"011\"] = \"20 deep\"\n",
        "mydictionary\n",
        "{\"001\": \"My Love\",\n",
        "  \"002\": \"If I let you go\",\n",
        "  \"003\": \"Swear It Again\",\n",
        "  \"004\": \"Starboy\",\n",
        "  \"005\": \"Ere\",\n",
        "  \"006\": \"Because\",\n",
        "  \"007\": \"Do not disturb\",\n",
        "  \"008\": \"Better now\",\n",
        "  \"009\": \"Anytime\",\n",
        "  \"010\": \"Silent mode\",\n",
        " \"011\": \"20 deep\",}\n",
        "\n",
        "print(mydictionary)"
      ]
    },
    {
      "cell_type": "markdown",
      "metadata": {
        "id": "-hZHBVmil2gV"
      },
      "source": [
        "#### 4. Remove one song"
      ]
    },
    {
      "cell_type": "code",
      "execution_count": 18,
      "metadata": {
        "colab": {
          "base_uri": "https://localhost:8080/"
        },
        "id": "mXIJ2jARl2gW",
        "outputId": "1c6ca953-251b-4b55-9149-a16bfdd2bb27"
      },
      "outputs": [
        {
          "output_type": "execute_result",
          "data": {
            "text/plain": [
              "{'002': 'If I let you go',\n",
              " '003': 'Swear It Again',\n",
              " '004': 'Starboy',\n",
              " '005': 'Ere',\n",
              " '006': 'Because',\n",
              " '007': 'Do not disturb',\n",
              " '008': 'Better now',\n",
              " '009': 'Anytime',\n",
              " '010': 'Silent mode',\n",
              " '011': '20 deep'}"
            ]
          },
          "metadata": {},
          "execution_count": 18
        }
      ],
      "source": [
        "# put your answer here\n",
        "mydictionary.pop(\"001\")\n",
        "mydictionary\n",
        "\n",
        ""
      ]
    },
    {
      "cell_type": "markdown",
      "metadata": {
        "id": "72SZjp8al2gW"
      },
      "source": [
        "#### 5. Create a nested dictionary of your 10 favorite songs with 5 genres. Display all of the items of the nested dictionary\n",
        "\n",
        "- Each nested dictionary's key should be the genre of the song\n",
        "- Put each song in their respective genre"
      ]
    },
    {
      "cell_type": "markdown",
      "metadata": {
        "id": "p4DEyY9gl2gW"
      },
      "source": [
        "Example:\n",
        "\n",
        "\n",
        "|KEY|VALUE|\n",
        "|---|---|\n",
        "|Pop|{001, Baby}|\n",
        "|Rock|{001, Enter Sandman}|"
      ]
    },
    {
      "cell_type": "code",
      "execution_count": 22,
      "metadata": {
        "colab": {
          "base_uri": "https://localhost:8080/"
        },
        "id": "KmbfWn04l2gW",
        "outputId": "489354ab-5047-42cb-dd05-d69a529f44d5"
      },
      "outputs": [
        {
          "output_type": "execute_result",
          "data": {
            "text/plain": [
              "{'pop': {'001': 'My love', '002': 'If I let you go', '003': 'Swear it again'},\n",
              " 'Rock': {'004': 'Starboy', '005': 'Ere'},\n",
              " 'rap': {'006': 'because',\n",
              "  '007': 'Do not disturb',\n",
              "  '008': 'better now',\n",
              "  '009': 'Anytime',\n",
              "  '010': 'Silent mode',\n",
              "  '011': '20 deep'}}"
            ]
          },
          "metadata": {},
          "execution_count": 22
        }
      ],
      "source": [
        "# put your answer here\n",
        "mydictionary = {\n",
        "  \"pop\" : {\n",
        "    \"001\" : \"My love\",\n",
        "    \"002\" : \"If I let you go\",\n",
        "    \"003\" : \"Swear it again\"\n",
        "  },\n",
        "  \"Rock\" : {\n",
        "    \"004\" : \"Starboy\",\n",
        "    \"005\" : \"Ere\"\n",
        "  },\n",
        "  \"rap\" : {\n",
        "    \"006\" : \"because\",\n",
        "    \"007\" : \"Do not disturb\",\n",
        "    \"008\" : \"better now\",\n",
        "    \"009\" : \"Anytime\",\n",
        "    \"010\" : \"Silent mode\",\n",
        "    \"011\" : \"20 deep\"\n",
        "  }\n",
        "}\n",
        "mydictionary"
      ]
    },
    {
      "cell_type": "markdown",
      "metadata": {
        "id": "7Hp3bVuEl2gW"
      },
      "source": [
        "#### 6. Print the first song of the first genre"
      ]
    },
    {
      "cell_type": "code",
      "execution_count": 24,
      "metadata": {
        "colab": {
          "base_uri": "https://localhost:8080/"
        },
        "id": "kwjyKT5Cl2gZ",
        "outputId": "93f34273-395e-4990-f838-65301e58d9a9"
      },
      "outputs": [
        {
          "output_type": "stream",
          "name": "stdout",
          "text": [
            "My love\n"
          ]
        }
      ],
      "source": [
        "# put your answer here\n",
        "print(mydictionary[\"pop\"][\"001\"])\n"
      ]
    },
    {
      "cell_type": "markdown",
      "metadata": {
        "id": "4YGEiL66l2gZ"
      },
      "source": [
        "#### 7. Print the first song of the last genre"
      ]
    },
    {
      "cell_type": "code",
      "execution_count": 26,
      "metadata": {
        "colab": {
          "base_uri": "https://localhost:8080/"
        },
        "id": "_mVl3z8Vl2gZ",
        "outputId": "05fb77aa-4325-4bc5-f239-e1a850360ec7"
      },
      "outputs": [
        {
          "output_type": "stream",
          "name": "stdout",
          "text": [
            "because\n"
          ]
        }
      ],
      "source": [
        "# put your answer here\n",
        "print(mydictionary[\"rap\"][\"006\"])\n"
      ]
    }
  ],
  "metadata": {
    "kernelspec": {
      "display_name": "Python 3",
      "language": "python",
      "name": "python3"
    },
    "language_info": {
      "codemirror_mode": {
        "name": "ipython",
        "version": 3
      },
      "file_extension": ".py",
      "mimetype": "text/x-python",
      "name": "python",
      "nbconvert_exporter": "python",
      "pygments_lexer": "ipython3",
      "version": "3.11.4"
    },
    "orig_nbformat": 4,
    "colab": {
      "provenance": [],
      "include_colab_link": true
    }
  },
  "nbformat": 4,
  "nbformat_minor": 0
}