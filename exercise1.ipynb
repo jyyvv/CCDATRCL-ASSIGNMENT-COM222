{
  "cells": [
    {
      "cell_type": "markdown",
      "metadata": {
        "id": "view-in-github",
        "colab_type": "text"
      },
      "source": [
        "<a href=\"https://colab.research.google.com/github/jyyvv/CCDATRCL-ASSIGNMENT-COM222/blob/main/exercise1.ipynb\" target=\"_parent\"><img src=\"https://colab.research.google.com/assets/colab-badge.svg\" alt=\"Open In Colab\"/></a>"
      ]
    },
    {
      "cell_type": "markdown",
      "metadata": {
        "id": "h2vFiYhGzZOg"
      },
      "source": [
        "# Exercise 1"
      ]
    },
    {
      "cell_type": "markdown",
      "source": [
        "## Class Initialization"
      ],
      "metadata": {
        "id": "sRm6kPQozcaU"
      }
    },
    {
      "cell_type": "code",
      "execution_count": null,
      "metadata": {
        "id": "b1u4Dt9mzZOi"
      },
      "outputs": [],
      "source": [
        "class Node:\n",
        "    def __init__(self, data):\n",
        "        self.data = data\n",
        "        self.next = None\n",
        "        self.prev = None"
      ]
    },
    {
      "cell_type": "code",
      "execution_count": null,
      "metadata": {
        "id": "tigvHSaHzZOj"
      },
      "outputs": [],
      "source": [
        "class LinkedList:\n",
        "\n",
        "    def __init__(self):\n",
        "        self.head = None\n",
        "\n",
        "    def traverse(self, node):\n",
        "        while node:\n",
        "            print(node.data, end=\" -> \")\n",
        "            node = node.next"
      ]
    },
    {
      "cell_type": "code",
      "execution_count": null,
      "metadata": {
        "id": "LIkQBioVzZOk"
      },
      "outputs": [],
      "source": [
        "class DoublyLinkedList:\n",
        "\n",
        "    def __init__(self):\n",
        "        self.head = None\n",
        "\n",
        "    def traverse(self, node):\n",
        "        while node:\n",
        "            print(node.data, end=\" -> \")\n",
        "            node = node.next"
      ]
    },
    {
      "cell_type": "code",
      "execution_count": null,
      "metadata": {
        "id": "zlxNT5EozZOl"
      },
      "outputs": [],
      "source": [
        "class CircularLinkedList:\n",
        "\n",
        "    def __init__(self):\n",
        "        self.head = None\n",
        "\n",
        "    def traverse(self, node):\n",
        "\n",
        "        head = node\n",
        "\n",
        "        while node:\n",
        "            print(node.data, end=\" -> \")\n",
        "            node = node.next\n",
        "\n",
        "            # Break to prevent infinite loop\n",
        "            if node == head:\n",
        "                break"
      ]
    },
    {
      "cell_type": "markdown",
      "metadata": {
        "id": "O68-Q1-bzZOl"
      },
      "source": [
        "#### 1. Create a Singly Linked list\n",
        "\n",
        "- Each node should contain your name and your seatmates in your row\n",
        "- Create at least 5 nodes\n",
        "- Traverse all nodes"
      ]
    },
    {
      "cell_type": "code",
      "execution_count": 2,
      "metadata": {
        "id": "pTcx_OuPzZOl",
        "colab": {
          "base_uri": "https://localhost:8080/"
        },
        "outputId": "b66e8e85-fee9-4d29-eb6e-36fb825c3056"
      },
      "outputs": [
        {
          "output_type": "stream",
          "name": "stdout",
          "text": [
            "Jayvee -> Ivan -> Jessa -> Seat4 -> Seat5 -> "
          ]
        }
      ],
      "source": [
        "# put your code here\n",
        "class Node:\n",
        "    def __init__(self, data):\n",
        "        self.data = data\n",
        "        self.next = None\n",
        "        self.prev = None\n",
        "\n",
        "class LinkedList:\n",
        "    def __init__(self):\n",
        "        self.head = None\n",
        "\n",
        "    def traverse(self, node):\n",
        "        while node:\n",
        "            print(node.data, end=\" -> \")\n",
        "            node = node.next\n",
        "\n",
        "# Create nodes\n",
        "node1 = Node(\"Jayvee\")\n",
        "node2 = Node(\"Ivan\")\n",
        "node3 = Node(\"Jessa\")\n",
        "node4 = Node(\"Seat4\")\n",
        "node5 = Node(\"Seat5\")\n",
        "\n",
        "# Link nodes together\n",
        "node1.next = node2\n",
        "node2.next = node3\n",
        "node3.next = node4\n",
        "node4.next = node5\n",
        "\n",
        "# Create linked list and set head\n",
        "linked_list = LinkedList()\n",
        "linked_list.head = node1\n",
        "\n",
        "# Traverse and print all nodes\n",
        "linked_list.traverse(linked_list.head)\n"
      ]
    },
    {
      "cell_type": "markdown",
      "metadata": {
        "id": "IFgwbdw_zZOm"
      },
      "source": [
        "#### 2. Create a Doubly Linked list\n",
        "\n",
        "- Each node should contain your name and your seatmates in your row\n",
        "- Create at least 5 nodes\n",
        "- Traverse all nodes"
      ]
    },
    {
      "cell_type": "code",
      "execution_count": 25,
      "metadata": {
        "id": "8kQD2A_QzZOm",
        "colab": {
          "base_uri": "https://localhost:8080/"
        },
        "outputId": "3ba5bacf-c09a-450f-b966-894da7553773"
      },
      "outputs": [
        {
          "output_type": "stream",
          "name": "stdout",
          "text": [
            "value of head is: Jayvee\n",
            "value of next to head is: Ivan\n",
            "---\n",
            "value of node_b is: Ivan\n",
            "value of previous of node_b is: Jayvee\n",
            "value of next of node_b is: Jessa\n",
            "---\n",
            "value of node_c is: Jessa\n",
            "value of previous of node_c is: Ivan\n",
            "---\n",
            "value of node_d is: Seatmate 4\n",
            "value of previous of node_d is: Jessa\n",
            "---\n",
            "value of node_e is: Seatmate 5\n",
            "value of previous of node_e is: Seatmate 4\n",
            "---\n",
            "Jayvee -> Ivan -> Jessa -> Seatmate 4 -> Seatmate 5 -> "
          ]
        }
      ],
      "source": [
        "# put your code here\n",
        "class Node:\n",
        "    def __init__(self, data):\n",
        "        self.data = data\n",
        "        self.prev = None\n",
        "        self.next = None\n",
        "\n",
        "class DoublyLinkedList:\n",
        "    def __init__(self):\n",
        "        self.head = None\n",
        "\n",
        "    def traverse(self, node):\n",
        "        while node:\n",
        "            print(node.data, end=\" -> \")\n",
        "            node = node.next\n",
        "\n",
        "\n",
        "# Create nodes\n",
        "node_a = Node(\"Jayvee\")\n",
        "node_b = Node(\"Ivan\")\n",
        "node_c = Node(\"Jessa\")\n",
        "node_d = Node(\"Seatmate 4\")\n",
        "node_e = Node(\"Seatmate 5\")\n",
        "\n",
        "# Link nodes\n",
        "node_a.next = node_b\n",
        "node_b.prev = node_a\n",
        "node_b.next = node_c\n",
        "node_c.prev = node_b\n",
        "node_c.next = node_d\n",
        "node_d.prev = node_c\n",
        "node_d.next = node_e\n",
        "node_e.prev = node_d\n",
        "\n",
        "# Create and initialize the doubly linked list\n",
        "doubly_linked_list = DoublyLinkedList()\n",
        "doubly_linked_list.head = node_a\n",
        "\n",
        "print(\"value of head is:\", doubly_linked_list.head.data)\n",
        "print(\"value of next to head is:\", doubly_linked_list.head.next.data)\n",
        "\n",
        "print(\"---\")\n",
        "\n",
        "print(\"value of node_b is:\", node_b.data)\n",
        "print(\"value of previous of node_b is:\", node_b.prev.data)\n",
        "print(\"value of next of node_b is:\", node_b.next.data)\n",
        "\n",
        "print(\"---\")\n",
        "\n",
        "print(\"value of node_c is:\", node_c.data)\n",
        "print(\"value of previous of node_c is:\", node_c.prev.data)\n",
        "\n",
        "print(\"---\")\n",
        "\n",
        "print(\"value of node_d is:\", node_d.data)\n",
        "print(\"value of previous of node_d is:\", node_d.prev.data)\n",
        "\n",
        "print(\"---\")\n",
        "\n",
        "print(\"value of node_e is:\", node_e.data)\n",
        "print(\"value of previous of node_e is:\", node_e.prev.data)\n",
        "\n",
        "print(\"---\")\n",
        "\n",
        "# Traverse and print all nodes\n",
        "doubly_linked_list.traverse(doubly_linked_list.head)"
      ]
    },
    {
      "cell_type": "markdown",
      "metadata": {
        "id": "rtApbsCjzZOm"
      },
      "source": [
        "#### 3. Create a Circular Linked list\n",
        "\n",
        "- Each node should contain your name and your seatmates in your row\n",
        "- Create at least 5 nodes\n",
        "- Traverse all nodes"
      ]
    },
    {
      "cell_type": "code",
      "execution_count": 19,
      "metadata": {
        "id": "Gp1Oiq0jzZOn",
        "colab": {
          "base_uri": "https://localhost:8080/"
        },
        "outputId": "78c9ef6b-6264-4f7b-f097-fe9a10398c56"
      },
      "outputs": [
        {
          "output_type": "stream",
          "name": "stdout",
          "text": [
            "value of head is : Jayvee\n",
            "value of next to head is : Ivan\n",
            "---\n",
            "value of node_b is : Ivan\n",
            "value of next of node_b is : Jessa\n",
            "---\n",
            "value of node_c is : Jessa\n",
            "value of next of node_c is : Seatmate 4\n",
            "---\n",
            "value of node_d is : Seatmate 4\n",
            "value of next of node_d is : Seatmate 5\n",
            "---\n",
            "value of node_e is : Seatmate 5\n",
            "value of next of node_e is : Jayvee\n",
            "Jayvee -> Ivan -> Jessa -> Seatmate 4 -> Seatmate 5 -> "
          ]
        }
      ],
      "source": [
        "# put your code here\n",
        "class Node:\n",
        "   def __init__(self, data):\n",
        "       self.data = data\n",
        "       self.next = None\n",
        "\n",
        "class CircularLinkedList:\n",
        "\n",
        "   def __init__(self):\n",
        "       self.head = None\n",
        "\n",
        "   def traverse(self, node):\n",
        "\n",
        "       head = node\n",
        "\n",
        "       while node:\n",
        "           print(node.data, end=\" -> \")\n",
        "           node = node.next\n",
        "\n",
        "           # Break to prevent infinite loop\n",
        "           if node == head:\n",
        "               break\n",
        "\n",
        "circular_linked_list = CircularLinkedList()\n",
        "\n",
        "circular_linked_list.head = Node(\"Jayvee\")\n",
        "node_b = Node(\"Ivan\")\n",
        "node_c = Node(\"Jessa\")\n",
        "node_d = Node(\"Seatmate 4\")\n",
        "node_e = Node(\"Seatmate 5\")\n",
        "\n",
        "circular_linked_list.head.next = node_b\n",
        "node_b.next = node_c\n",
        "node_c.next = node_d\n",
        "node_d.next = node_e\n",
        "node_e.next = circular_linked_list.head\n",
        "\n",
        "print(\"value of head is :\", circular_linked_list.head.data)\n",
        "print(\"value of next to head is :\", circular_linked_list.head.next.data)\n",
        "\n",
        "print(\"---\")\n",
        "\n",
        "print(\"value of node_b is :\", node_b.data)\n",
        "print(\"value of next of node_b is :\", node_b.next.data)\n",
        "\n",
        "print(\"---\")\n",
        "\n",
        "print(\"value of node_c is :\", node_c.data)\n",
        "print(\"value of next of node_c is :\", node_c.next.data)\n",
        "\n",
        "print(\"---\")\n",
        "\n",
        "print(\"value of node_d is :\", node_d.data)\n",
        "print(\"value of next of node_d is :\", node_d.next.data)\n",
        "\n",
        "print(\"---\")\n",
        "\n",
        "print(\"value of node_e is :\", node_e.data)\n",
        "print(\"value of next of node_e is :\", node_e.next.data)\n",
        "\n",
        "circular_linked_list.traverse(circular_linked_list.head)"
      ]
    }
  ],
  "metadata": {
    "kernelspec": {
      "display_name": "Python 3",
      "language": "python",
      "name": "python3"
    },
    "language_info": {
      "name": "python",
      "version": "3.11.4"
    },
    "orig_nbformat": 4,
    "colab": {
      "provenance": [],
      "include_colab_link": true
    }
  },
  "nbformat": 4,
  "nbformat_minor": 0
}