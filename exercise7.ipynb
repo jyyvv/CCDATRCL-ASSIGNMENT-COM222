{
  "cells": [
    {
      "cell_type": "markdown",
      "metadata": {
        "id": "view-in-github",
        "colab_type": "text"
      },
      "source": [
        "<a href=\"https://colab.research.google.com/github/jyyvv/CCDATRCL-ASSIGNMENT-COM222/blob/main/exercise7.ipynb\" target=\"_parent\"><img src=\"https://colab.research.google.com/assets/colab-badge.svg\" alt=\"Open In Colab\"/></a>"
      ]
    },
    {
      "cell_type": "markdown",
      "metadata": {
        "id": "e3Ja3uozAJlw"
      },
      "source": [
        "# Exercise 7"
      ]
    },
    {
      "cell_type": "code",
      "execution_count": 19,
      "metadata": {
        "id": "IW6uTwU8AJly"
      },
      "outputs": [],
      "source": [
        "class Node:\n",
        "    def __init__(self, item):\n",
        "        self.left = None\n",
        "        self.right = None\n",
        "        self.val = item"
      ]
    },
    {
      "cell_type": "code",
      "execution_count": 20,
      "metadata": {
        "id": "uxVFuimIAJlz"
      },
      "outputs": [],
      "source": [
        "def evaluateExpressionTree(root):\n",
        "\n",
        "    # empty tree\n",
        "    if root is None:\n",
        "        return 0\n",
        "\n",
        "    # leaf node\n",
        "    if root.left is None and root.right is None:\n",
        "        return int(root.val)\n",
        "\n",
        "    # evaluate left tree\n",
        "    left_sum = evaluateExpressionTree(root.left)\n",
        "\n",
        "    # evaluate right tree\n",
        "    right_sum = evaluateExpressionTree(root.right)\n",
        "\n",
        "    # check which operation to apply\n",
        "    if root.val == '+':\n",
        "        return left_sum + right_sum\n",
        "\n",
        "    elif root.val == '-':\n",
        "        return left_sum - right_sum\n",
        "\n",
        "    elif root.val == '*':\n",
        "        return left_sum * right_sum\n",
        "\n",
        "    else:\n",
        "        return left_sum // right_sum"
      ]
    },
    {
      "cell_type": "code",
      "execution_count": 21,
      "metadata": {
        "id": "-xWZXA-mAJl0"
      },
      "outputs": [],
      "source": [
        "def inorder(root):\n",
        "\n",
        "    if root:\n",
        "        # Traverse left\n",
        "        inorder(root.left)\n",
        "        # Traverse root\n",
        "        print(str(root.val) + \"->\", end='')\n",
        "        # Traverse right\n",
        "        inorder(root.right)"
      ]
    },
    {
      "cell_type": "markdown",
      "metadata": {
        "id": "CVtqxh5DAJl1"
      },
      "source": [
        "#### 1. Construct a binary expression tree\n",
        "\n",
        "$ (8 + 4) * (7 - 9) $"
      ]
    },
    {
      "cell_type": "code",
      "execution_count": 29,
      "metadata": {
        "id": "CxpP0zcVAJl1",
        "outputId": "60064b69-9b35-4870-8f09-f9fa53876c77",
        "colab": {
          "base_uri": "https://localhost:8080/"
        }
      },
      "outputs": [
        {
          "output_type": "stream",
          "name": "stdout",
          "text": [
            "8->+->4->*->7->-->9->\n",
            "Answer: \n"
          ]
        },
        {
          "output_type": "execute_result",
          "data": {
            "text/plain": [
              "-24"
            ]
          },
          "metadata": {},
          "execution_count": 29
        }
      ],
      "source": [
        "# put your answer here\n",
        "root = Node(\"*\")\n",
        "node1 = Node(\"+\")\n",
        "node2 = Node(\"-\")\n",
        "node3 = Node(\"8\")\n",
        "node4 = Node(\"4\")\n",
        "node5 = Node(\"7\")\n",
        "node6 = Node(\"9\")\n",
        "\n",
        "root.left = node1\n",
        "root.right = node2\n",
        "node1.left = node3\n",
        "node1.right = node4\n",
        "node2.left = node5\n",
        "node2.right = node6\n",
        "\n",
        "inorder(root)\n",
        "print(\"\\nAnswer: \")\n",
        "evaluateExpressionTree(root)\n"
      ]
    },
    {
      "cell_type": "markdown",
      "metadata": {
        "id": "jc5KHLk6AJl2"
      },
      "source": [
        "#### 2. Construct a binary expression tree\n",
        "\n",
        "$ 5 / 8 + 3 - 6 * 1 $"
      ]
    },
    {
      "cell_type": "code",
      "execution_count": 27,
      "metadata": {
        "id": "XORzqkC3AJl2",
        "outputId": "1f1864ec-3c77-4782-add7-79adb78b2ac7",
        "colab": {
          "base_uri": "https://localhost:8080/"
        }
      },
      "outputs": [
        {
          "output_type": "stream",
          "name": "stdout",
          "text": [
            "5->/->8->+->3->-->6->*->1->\n",
            "Answer: \n"
          ]
        },
        {
          "output_type": "execute_result",
          "data": {
            "text/plain": [
              "-3"
            ]
          },
          "metadata": {},
          "execution_count": 27
        }
      ],
      "source": [
        "# put your answer here\n",
        "root = Node(\"-\")\n",
        "\n",
        "node1 = Node(\"+\")\n",
        "\n",
        "node2 = Node(\"*\")\n",
        "\n",
        "node3 = Node(\"/\")\n",
        "\n",
        "node4 = Node(\"3\")\n",
        "\n",
        "node5 = Node(\"6\")\n",
        "\n",
        "node6 = Node(\"1\")\n",
        "\n",
        "node7 = Node(\"5\")\n",
        "\n",
        "node8 = Node(\"8\")\n",
        "\n",
        "\n",
        "\n",
        "root.left = node1\n",
        "\n",
        "root.right = node2\n",
        "\n",
        "root.left.left = node3\n",
        "\n",
        "root.left.right = node4\n",
        "\n",
        "root.right.left = node5\n",
        "\n",
        "root.right.right = node6\n",
        "\n",
        "root.left.left.left = node7\n",
        "\n",
        "root.left.left.right = node8\n",
        "\n",
        "\n",
        "\n",
        "inorder(root)\n",
        "print(\"\\nAnswer: \")\n",
        "evaluateExpressionTree(root)\n",
        "\n",
        "\n"
      ]
    },
    {
      "cell_type": "markdown",
      "metadata": {
        "id": "tu3n5ZdWAJl2"
      },
      "source": [
        "#### 3. Construct a binary expression tree\n",
        "\n",
        "$ ((2 + 5) / 3)- (3 + 8) $"
      ]
    },
    {
      "cell_type": "code",
      "execution_count": 31,
      "metadata": {
        "id": "5GvZBxgtAJl3",
        "outputId": "30bf1f0b-4246-4319-ab41-8e37fcd90af2",
        "colab": {
          "base_uri": "https://localhost:8080/"
        }
      },
      "outputs": [
        {
          "output_type": "stream",
          "name": "stdout",
          "text": [
            "2->+->5->/->3->-->3->+->8->\n",
            "Answer: \n"
          ]
        },
        {
          "output_type": "execute_result",
          "data": {
            "text/plain": [
              "-9"
            ]
          },
          "metadata": {},
          "execution_count": 31
        }
      ],
      "source": [
        "# put your answer here\n",
        "root = Node(\"-\")\n",
        "\n",
        "node1 = Node(\"/\")\n",
        "\n",
        "node2 = Node(\"+\")\n",
        "\n",
        "node3 = Node(\"+\")\n",
        "\n",
        "node4 = Node(\"3\")\n",
        "\n",
        "node5 = Node(\"3\")\n",
        "\n",
        "node6 = Node(\"8\")\n",
        "\n",
        "node7 = Node(\"2\")\n",
        "\n",
        "node8 = Node(\"5\")\n",
        "\n",
        "\n",
        "\n",
        "root.left = node1\n",
        "\n",
        "root.right = node2\n",
        "\n",
        "root.left.left = node3\n",
        "\n",
        "root.left.right = node4\n",
        "\n",
        "root.right.left = node5\n",
        "\n",
        "root.right.right = node6\n",
        "\n",
        "root.left.left.left = node7\n",
        "\n",
        "root.left.left.right = node8\n",
        "\n",
        "\n",
        "\n",
        "inorder(root)\n",
        "print(\"\\nAnswer: \")\n",
        "evaluateExpressionTree(root)\n",
        "\n"
      ]
    }
  ],
  "metadata": {
    "kernelspec": {
      "display_name": "Python 3",
      "language": "python",
      "name": "python3"
    },
    "language_info": {
      "codemirror_mode": {
        "name": "ipython",
        "version": 3
      },
      "file_extension": ".py",
      "mimetype": "text/x-python",
      "name": "python",
      "nbconvert_exporter": "python",
      "pygments_lexer": "ipython3",
      "version": "3.11.4"
    },
    "orig_nbformat": 4,
    "colab": {
      "provenance": [],
      "include_colab_link": true
    }
  },
  "nbformat": 4,
  "nbformat_minor": 0
}