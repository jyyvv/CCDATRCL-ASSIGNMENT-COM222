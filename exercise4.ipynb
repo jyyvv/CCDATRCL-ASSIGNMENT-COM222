{
  "cells": [
    {
      "cell_type": "markdown",
      "metadata": {
        "id": "view-in-github",
        "colab_type": "text"
      },
      "source": [
        "<a href=\"https://colab.research.google.com/github/jyyvv/CCDATRCL-ASSIGNMENT-COM222/blob/main/exercise4.ipynb\" target=\"_parent\"><img src=\"https://colab.research.google.com/assets/colab-badge.svg\" alt=\"Open In Colab\"/></a>"
      ]
    },
    {
      "cell_type": "markdown",
      "metadata": {
        "id": "fCO3VeNzvGDc"
      },
      "source": [
        "# Exercise 4"
      ]
    },
    {
      "cell_type": "markdown",
      "metadata": {
        "id": "UCFGr2qPKONg"
      },
      "source": [
        "#### Pre-defined sorting algorithms"
      ]
    },
    {
      "cell_type": "code",
      "execution_count": null,
      "metadata": {
        "id": "dXWXOLWtKONg"
      },
      "outputs": [],
      "source": [
        "def mergeSort(array):\n",
        "    if len(array) > 1:\n",
        "\n",
        "        #  r is the point where the array is divided into two subarrays\n",
        "        r = len(array)//2\n",
        "        L = array[:r]\n",
        "        M = array[r:]\n",
        "\n",
        "        # Sort the two halves\n",
        "        mergeSort(L)\n",
        "        mergeSort(M)\n",
        "\n",
        "        i = j = k = 0\n",
        "\n",
        "        # Until we reach either end of either L or M, pick larger among\n",
        "        # elements L and M and place them in the correct position at A[p..r]\n",
        "        while i < len(L) and j < len(M):\n",
        "            if L[i] < M[j]:\n",
        "                array[k] = L[i]\n",
        "                i += 1\n",
        "            else:\n",
        "                array[k] = M[j]\n",
        "                j += 1\n",
        "            k += 1\n",
        "\n",
        "        # When we run out of elements in either L or M,\n",
        "        # pick up the remaining elements and put in A[p..r]\n",
        "        while i < len(L):\n",
        "            array[k] = L[i]\n",
        "            i += 1\n",
        "            k += 1\n",
        "\n",
        "        while j < len(M):\n",
        "            array[k] = M[j]\n",
        "            j += 1\n",
        "            k += 1\n",
        "\n",
        "# Print the array\n",
        "def printList(array):\n",
        "    for i in range(len(array)):\n",
        "        print(array[i], end=\" \")\n",
        "    print()"
      ]
    },
    {
      "cell_type": "code",
      "execution_count": null,
      "metadata": {
        "id": "OB-JMVxvKONi"
      },
      "outputs": [],
      "source": [
        "def countingSort(array):\n",
        "    size = len(array)\n",
        "    output = [0] * size\n",
        "\n",
        "    # Initialize count array\n",
        "    count = [0] * 10\n",
        "\n",
        "    # Store the count of each elements in count array\n",
        "    for i in range(0, size):\n",
        "        count[array[i]] += 1\n",
        "\n",
        "    # Store the cummulative count\n",
        "    for i in range(1, 10):\n",
        "        count[i] += count[i - 1]\n",
        "\n",
        "    # Find the index of each element of the original array in count array\n",
        "    # place the elements in output array\n",
        "    i = size - 1\n",
        "    while i >= 0:\n",
        "        output[count[array[i]] - 1] = array[i]\n",
        "        count[array[i]] -= 1\n",
        "        i -= 1\n",
        "\n",
        "    # Copy the sorted elements into original array\n",
        "    for i in range(0, size):\n",
        "        array[i] = output[i]"
      ]
    },
    {
      "cell_type": "code",
      "execution_count": null,
      "metadata": {
        "id": "VXaukk4_KONj"
      },
      "outputs": [],
      "source": [
        "def insertionSort(array):\n",
        "\n",
        "    for step in range(1, len(array)):\n",
        "        key = array[step]\n",
        "        j = step - 1\n",
        "\n",
        "        # Compare key with each element on the left of it until an element smaller than it is found\n",
        "        # For descending order, change key<array[j] to key>array[j].\n",
        "        while j >= 0 and key < array[j]:\n",
        "            array[j + 1] = array[j]\n",
        "            j = j - 1\n",
        "\n",
        "        # Place key at after the element just smaller than it.\n",
        "        array[j + 1] = key"
      ]
    },
    {
      "cell_type": "code",
      "execution_count": null,
      "metadata": {
        "id": "b4yWHH1nKONj"
      },
      "outputs": [],
      "source": [
        "# Bubble sort in Python\n",
        "def bubbleSort(array):\n",
        "\n",
        "  # loop to access each array element\n",
        "  for i in range(len(array)):\n",
        "\n",
        "    # loop to compare array elements\n",
        "    for j in range(0, len(array) - i - 1):\n",
        "\n",
        "      # compare two adjacent elements\n",
        "      # change > to < to sort in descending order\n",
        "      if array[j] > array[j + 1]:\n",
        "\n",
        "        # swapping elements if elements\n",
        "        # are not in the intended order\n",
        "        temp = array[j]\n",
        "        array[j] = array[j+1]\n",
        "        array[j+1] = temp"
      ]
    },
    {
      "cell_type": "markdown",
      "metadata": {
        "id": "6j9PZVsyvGDe"
      },
      "source": [
        "#### 1. Sort your **student number** in **ascending order**\n",
        "\n",
        "Example:\n",
        "\n",
        "**Input: 2022123456**\n",
        "\n",
        "**Output: 0122223456**"
      ]
    },
    {
      "cell_type": "code",
      "execution_count": 2,
      "metadata": {
        "id": "UuNMRCm3vGDe",
        "outputId": "ed7806b9-436d-4ccc-81d4-37e3b7f3a342",
        "colab": {
          "base_uri": "https://localhost:8080/"
        }
      },
      "outputs": [
        {
          "output_type": "stream",
          "name": "stdout",
          "text": [
            "0001222335\n"
          ]
        }
      ],
      "source": [
        "# put your answer here\n",
        "def bubbleSort(array):\n",
        "    # loop to access each array element\n",
        "    for i in range(len(array)):\n",
        "        # loop to compare array elements\n",
        "        for j in range(0, len(array) - i - 1):\n",
        "            # compare two adjacent elements\n",
        "            # change > to < to sort in descending order\n",
        "            if array[j] > array[j + 1]:\n",
        "                # swapping elements if elements\n",
        "                # are not in the intended order\n",
        "                temp = array[j]\n",
        "                array[j] = array[j+1]\n",
        "                array[j+1] = temp\n",
        "\n",
        "# Input your student number as a string\n",
        "student_number = \"2022103053\"\n",
        "\n",
        "# Convert the string to a list of digits\n",
        "student_number_list = [int(digit) for digit in student_number]\n",
        "\n",
        "# Use bubble sort to sort the list in ascending order\n",
        "bubbleSort(student_number_list)\n",
        "\n",
        "# Convert the sorted list back to a string\n",
        "sorted_student_number = ''.join(map(str, student_number_list))\n",
        "\n",
        "# Print the sorted student number\n",
        "print( sorted_student_number)\n"
      ]
    },
    {
      "cell_type": "markdown",
      "metadata": {
        "id": "felukBjnvGDf"
      },
      "source": [
        "#### 2. Sort the **dates** in **ascending order**.\n",
        "\n",
        "dates = [\"12-25-2023\", birthday, \"01-01-2023\"]\n",
        "\n",
        "Enter your birthday in the birthday variable."
      ]
    },
    {
      "cell_type": "code",
      "execution_count": 4,
      "metadata": {
        "id": "f8xQ3N0jvGDg",
        "outputId": "7efd3d83-51f8-43c5-da4b-7145efd33f82",
        "colab": {
          "base_uri": "https://localhost:8080/"
        }
      },
      "outputs": [
        {
          "output_type": "stream",
          "name": "stdout",
          "text": [
            "['08-08-2003', '01-01-2023', '12-25-2023']\n"
          ]
        }
      ],
      "source": [
        "# put your answer here\n",
        "\n",
        "from datetime import datetime\n",
        "\n",
        "def bubbleSort(dates):\n",
        "    # loop to access each date element\n",
        "    for i in range(len(dates)):\n",
        "        # loop to compare date elements\n",
        "        for j in range(0, len(dates) - i - 1):\n",
        "            # compare two adjacent date elements\n",
        "            if datetime.strptime(dates[j], \"%m-%d-%Y\") > datetime.strptime(dates[j + 1], \"%m-%d-%Y\"):\n",
        "                # swapping elements if elements are not in the intended order\n",
        "                temp = dates[j]\n",
        "                dates[j] = dates[j+1]\n",
        "                dates[j+1] = temp\n",
        "\n",
        "# Input your birthday as a string\n",
        "birthday = \"08-08-2003\"\n",
        "\n",
        "# List of dates to be sorted\n",
        "dates = [\"12-25-2023\", birthday, \"01-01-2023\"]\n",
        "\n",
        "# Use bubble sort to sort the dates in ascending order\n",
        "bubbleSort(dates)\n",
        "\n",
        "# Print the sorted dates\n",
        "print(dates)\n"
      ]
    },
    {
      "cell_type": "markdown",
      "metadata": {
        "id": "IFDPeGZxvGDg"
      },
      "source": [
        "#### 3. Count the **total number of swaps** to sort the list below using **Bubble Sort**\n",
        "\n",
        "|3|2|5|1|4|\n",
        "|---|----|---|---|---|"
      ]
    },
    {
      "cell_type": "code",
      "execution_count": 6,
      "metadata": {
        "id": "b1ppwLcevGDg",
        "outputId": "32a155ca-b561-4cbd-98cc-36e06fe8c833",
        "colab": {
          "base_uri": "https://localhost:8080/"
        }
      },
      "outputs": [
        {
          "output_type": "stream",
          "name": "stdout",
          "text": [
            "Total Swaps: 5\n"
          ]
        }
      ],
      "source": [
        "# put your answer here\n",
        "def bubbleSort(array):\n",
        "    # Initialize a variable to count the number of swaps\n",
        "    num_swaps = 0\n",
        "\n",
        "    # loop to access each array element\n",
        "    for i in range(len(array)):\n",
        "        # loop to compare array elements\n",
        "        for j in range(0, len(array) - i - 1):\n",
        "            # compare two adjacent elements\n",
        "            # change > to < to sort in descending order\n",
        "            if array[j] > array[j + 1]:\n",
        "                # swapping elements if elements are not in the intended order\n",
        "                temp = array[j]\n",
        "                array[j] = array[j + 1]\n",
        "                array[j + 1] = temp\n",
        "                # Increment the swap count\n",
        "                num_swaps += 1\n",
        "\n",
        "    return num_swaps\n",
        "\n",
        "# List to be sorted\n",
        "my_list = [3, 2, 5, 1, 4]\n",
        "\n",
        "# Call bubbleSort and get the total number of swaps\n",
        "total_swaps = bubbleSort(my_list)\n",
        "\n",
        "# Print the sorted list and the total number of swaps\n",
        "\n",
        "print(\"Total Swaps:\", total_swaps)\n"
      ]
    },
    {
      "cell_type": "markdown",
      "metadata": {
        "id": "iO2UusQWvGDi"
      },
      "source": [
        "#### 4. Count the **total number of steps** to sort the list below using **Insertion Sort**\n",
        "\n",
        "\n",
        "|6|2|5|7|4|1|8|9|3|\n",
        "|---|---|---|---|---|---|---|---|---|"
      ]
    },
    {
      "cell_type": "code",
      "execution_count": 8,
      "metadata": {
        "id": "vq1PYEjmvGDi",
        "outputId": "8c68be1b-e3c6-4fac-bec0-9d64bf76ccdd",
        "colab": {
          "base_uri": "https://localhost:8080/"
        }
      },
      "outputs": [
        {
          "output_type": "stream",
          "name": "stdout",
          "text": [
            "Total Steps: 16\n"
          ]
        }
      ],
      "source": [
        "# put your answer here\n",
        "def insertionSort(array):\n",
        "    # Initialize a variable to count the number of steps\n",
        "    num_steps = 0\n",
        "\n",
        "    for step in range(1, len(array)):\n",
        "        key = array[step]\n",
        "        j = step - 1\n",
        "\n",
        "        # Compare key with each element on the left of it until an element smaller than it is found\n",
        "        # For descending order, change key < array[j] to key > array[j].\n",
        "        while j >= 0 and key < array[j]:\n",
        "            array[j + 1] = array[j]\n",
        "            j = j - 1\n",
        "            num_steps += 1  # Increment the step count\n",
        "\n",
        "        # Place key after the element just smaller than it.\n",
        "        array[j + 1] = key\n",
        "\n",
        "    return num_steps\n",
        "\n",
        "# List to be sorted\n",
        "my_list = [6, 2, 5, 7, 4, 1, 8, 9, 3]\n",
        "\n",
        "# Call insertionSort and get the total number of steps\n",
        "total_steps = insertionSort(my_list)\n",
        "\n",
        "\n",
        "\n",
        "print(\"Total Steps:\", total_steps)\n"
      ]
    },
    {
      "cell_type": "markdown",
      "metadata": {
        "id": "jpfNCCdbvGDj"
      },
      "source": [
        "#### 5. Given the list below:\n",
        "\n",
        "\n",
        "|7|5|4|3|2|5|1|8|\n",
        "|---|---|---|---|---|---|---|---|\n",
        "\n",
        "Using **merge sort** and **counting sort**\n",
        "\n",
        "Determine which sorting algorithm is faster by counting the total number of steps for each algorithm\n"
      ]
    },
    {
      "cell_type": "code",
      "execution_count": 15,
      "metadata": {
        "id": "2YVK17cSvGDj",
        "outputId": "be1006a2-dad0-4a5d-aebe-d8c0b82b37e6",
        "colab": {
          "base_uri": "https://localhost:8080/"
        }
      },
      "outputs": [
        {
          "output_type": "stream",
          "name": "stdout",
          "text": [
            "Merge Sort Steps: 24\n",
            "Counting Sort Steps: 24\n",
            "Conclusion: Both algorithms have the same number of steps.\n"
          ]
        }
      ],
      "source": [
        "def mergeSort(array, step_count=[0]):\n",
        "    if len(array) > 1:\n",
        "        # r is the point where the array is divided into two subarrays\n",
        "        r = len(array)//2\n",
        "        L = array[:r]\n",
        "        M = array[r:]\n",
        "\n",
        "        # Sort the two halves\n",
        "        mergeSort(L, step_count)\n",
        "        mergeSort(M, step_count)\n",
        "\n",
        "        i = j = k = 0\n",
        "\n",
        "        # Until we reach either end of either L or M, pick the larger element among\n",
        "        # elements L and M and place them in the correct position at A[p..r]\n",
        "        while i < len(L) and j < len(M):\n",
        "            if L[i] < M[j]:\n",
        "                array[k] = L[i]\n",
        "                i += 1\n",
        "            else:\n",
        "                array[k] = M[j]\n",
        "                j += 1\n",
        "            k += 1\n",
        "            step_count[0] += 1  # Increment the step count\n",
        "\n",
        "        # When we run out of elements in either L or M,\n",
        "        # pick up the remaining elements and put them in A[p..r]\n",
        "        while i < len(L):\n",
        "            array[k] = L[i]\n",
        "            i += 1\n",
        "            k += 1\n",
        "            step_count[0] += 1  # Increment the step count\n",
        "\n",
        "        while j < len(M):\n",
        "            array[k] = M[j]\n",
        "            j += 1\n",
        "            k += 1\n",
        "            step_count[0] += 1  # Increment the step count\n",
        "\n",
        "def countingSort(array, step_count=[0]):\n",
        "    size = len(array)\n",
        "    output = [0] * size\n",
        "\n",
        "    # Initialize count array\n",
        "    count = [0] * 10\n",
        "\n",
        "    # Store the count of each element in count array\n",
        "    for i in range(0, size):\n",
        "        count[array[i]] += 1\n",
        "        step_count[0] += 1  # Increment the step count\n",
        "\n",
        "    # Store the cumulative count\n",
        "    for i in range(1, 10):\n",
        "        count[i] += count[i - 1]\n",
        "\n",
        "    # Find the index of each element of the original array in the count array\n",
        "    # Place the elements in the output array\n",
        "    i = size - 1\n",
        "    while i >= 0:\n",
        "        output[count[array[i]] - 1] = array[i]\n",
        "        count[array[i]] -= 1\n",
        "        i -= 1\n",
        "        step_count[0] += 1  # Increment the step count\n",
        "\n",
        "    # Copy the sorted elements into the original array\n",
        "    for i in range(0, size):\n",
        "        array[i] = output[i]\n",
        "        step_count[0] += 1  # Increment the step count\n",
        "\n",
        "# Given list to be sorted\n",
        "my_list = [7, 5, 4, 3, 2, 5, 1, 8]\n",
        "\n",
        "# Clone the list for each sorting algorithm\n",
        "merge_sort_list = my_list.copy()\n",
        "counting_sort_list = my_list.copy()\n",
        "\n",
        "\n",
        "merge_sort_steps = [0]\n",
        "counting_sort_steps = [0]\n",
        "\n",
        "\n",
        "mergeSort(merge_sort_list, merge_sort_steps)\n",
        "countingSort(counting_sort_list, counting_sort_steps)\n",
        "\n",
        "\n",
        "print(\"Merge Sort Steps:\", merge_sort_steps[0])\n",
        "print(\"Counting Sort Steps:\", counting_sort_steps[0])\n",
        "\n",
        "\n",
        "if merge_sort_steps[0] < counting_sort_steps[0]:\n",
        "    print(\"Conclusion: Merge Sort is faster.\")\n",
        "elif merge_sort_steps[0] > counting_sort_steps[0]:\n",
        "    print(\"Conclusion: Counting Sort is faster.\")\n",
        "else:\n",
        "    print(\"Conclusion: Both algorithms have the same number of steps.\")\n"
      ]
    }
  ],
  "metadata": {
    "colab": {
      "provenance": [],
      "include_colab_link": true
    },
    "kernelspec": {
      "display_name": "Python 3",
      "language": "python",
      "name": "python3"
    },
    "language_info": {
      "codemirror_mode": {
        "name": "ipython",
        "version": 3
      },
      "file_extension": ".py",
      "mimetype": "text/x-python",
      "name": "python",
      "nbconvert_exporter": "python",
      "pygments_lexer": "ipython3",
      "version": "3.11.4"
    },
    "orig_nbformat": 4
  },
  "nbformat": 4,
  "nbformat_minor": 0
}